{
 "cells": [
  {
   "cell_type": "markdown",
   "metadata": {},
   "source": [
    "<h3>Run the cell below to initialize the program. Remember to fill in the base_dir, project_name, raw_data_file_name and chunk_nums fields</h3>"
   ]
  },
  {
   "cell_type": "code",
   "execution_count": null,
   "metadata": {},
   "outputs": [],
   "source": [
    "import os\n",
    "import sys\n",
    "%run ..//NewFunctions.py\n",
    "\n",
    "\n",
    "#****************** fill these in *************************\n",
    "base_dir = 'D:\\\\Segment'\n",
    "project_name = 'K02288'\n",
    "raw_data_file_name = 'Decon_'\n",
    "\n",
    "#ignore this if only working with a single part \n",
    "chunk_nums = [1, 1]\n",
    "#****************** fill these in *************************\n",
    "\n",
    "path = os.path.join(base_dir, project_name)\n",
    "\n",
    "Path(os.path.join(path, 'processed_images', 'mem')).mkdir(parents=True, exist_ok=True)\n",
    "Path(os.path.join(path, 'processed_images', 'nuc')).mkdir(parents=True, exist_ok=True)\n",
    "Path(os.path.join(path, 'processed_images', 'nuc', 'temp')).mkdir(parents=True, exist_ok=True)\n",
    "Path(os.path.join(path, 'processed_images', 'mem', 'temp')).mkdir(parents=True, exist_ok=True)\n",
    "\n",
    "total_file_nums = len(os.listdir(os.path.join(path, 'raw_data', 'nuc')))   \n",
    "\n",
    "%gui qt"
   ]
  },
  {
   "cell_type": "markdown",
   "metadata": {},
   "source": [
    "<h3>Align multiple parts of a timelapse sequence (if necessary)</h3>"
   ]
  },
  {
   "cell_type": "code",
   "execution_count": null,
   "metadata": {},
   "outputs": [],
   "source": [
    "#if there are multiple parts, align and rename them all\n",
    "\n",
    "last_part_1 = io.imread(path + '\\\\raw_data\\\\mem\\\\part_1\\\\' + raw_data_file_name + str(chunk_nums[0]-1) + '.tif')\n",
    "first_part_2 = io.imread(path + '\\\\raw_data\\\\mem\\\\part_2\\\\' + raw_data_file_name + str(0) + '.tif')\n",
    "\n",
    "combined_stacks = np.stack((last_part_1, first_part_2), axis=0)\n",
    "\n",
    "viewer = DDN.PreProcess.OpenAlignmentViewer(combined_stacks, path, chunk_nums)\n",
    "\n",
    "#rename all files and put them into a single folder, under the mem or nuc folders (where the 'normal' would otherwise be)"
   ]
  },
  {
   "cell_type": "markdown",
   "metadata": {},
   "source": [
    "<h3>Downsample the images by a factor of two</h3>"
   ]
  },
  {
   "cell_type": "code",
   "execution_count": null,
   "metadata": {},
   "outputs": [],
   "source": [
    "#downsample the images by a factor of 2:\n",
    "files = []\n",
    "for entry in os.scandir(os.path.join(path, 'processed_images', 'nuc')):\n",
    "    if entry.is_file():\n",
    "        files.append(entry)\n",
    "total_file_nums = len(files)\n",
    "\n",
    "\n",
    "for i in range (0, total_file_nums):\n",
    "    \n",
    "    clear_output(wait=True)\n",
    "    print('running file ' + str(i) + ' of ' + str(total_file_nums-1))\n",
    "    \n",
    "    im = io.imread(os.path.join(path, 'raw_data', 'mem', raw_data_file_name + str(i) + '.tif'))                            \n",
    "    im_zoomed = zoom(im, (0.5, 0.5, 0.5), order = 1)    \n",
    "    np.savez_compressed(os.path.join(path, 'processed_images', 'mem', 'temp', 'mem_' + str(i)), im_zoomed)\n",
    "    \n",
    "    im = io.imread(os.path.join(path, 'raw_data', 'nuc', raw_data_file_name + str(i) + '.tif'))\n",
    "    im_zoomed = zoom(im, (0.5, 0.5, 0.5), order = 1)\n",
    "    np.savez_compressed(os.path.join(path, 'processed_images', 'nuc', 'temp', 'nuc_' + str(i)), im_zoomed)\n",
    "        "
   ]
  },
  {
   "cell_type": "markdown",
   "metadata": {},
   "source": [
    "<h3> Crop the images by defning control points to crop to in X, Y and Z planes </h3>"
   ]
  },
  {
   "cell_type": "code",
   "execution_count": null,
   "metadata": {},
   "outputs": [],
   "source": [
    "DDN.PreProcess.OpenCropViewer(path, total_file_nums-1)"
   ]
  },
  {
   "cell_type": "markdown",
   "metadata": {},
   "source": [
    "<h3>Align Red and Green channels (if necessary) </h3>"
   ]
  },
  {
   "cell_type": "code",
   "execution_count": null,
   "metadata": {},
   "outputs": [],
   "source": [
    "DDN.PreProcess.AlignRG(path, total_file_nums-1)"
   ]
  },
  {
   "cell_type": "markdown",
   "metadata": {},
   "source": [
    "<h3>Rotate the images (if necessary) </h3>"
   ]
  },
  {
   "cell_type": "code",
   "execution_count": null,
   "metadata": {},
   "outputs": [],
   "source": [
    "DDN.PreProcess.RotateImages(path, total_file_nums-1)"
   ]
  },
  {
   "cell_type": "markdown",
   "metadata": {},
   "source": [
    "<h3> Check the data and finalize the processed images </h3>"
   ]
  },
  {
   "cell_type": "code",
   "execution_count": null,
   "metadata": {},
   "outputs": [],
   "source": [
    "DDN.PreProcess.CheckAllFiles(path, start=0, end=total_file_nums-1)"
   ]
  }
 ],
 "metadata": {
  "kernelspec": {
   "display_name": "Python 3",
   "language": "python",
   "name": "python3"
  },
  "language_info": {
   "codemirror_mode": {
    "name": "ipython",
    "version": 3
   },
   "file_extension": ".py",
   "mimetype": "text/x-python",
   "name": "python",
   "nbconvert_exporter": "python",
   "pygments_lexer": "ipython3",
   "version": "3.8.6"
  }
 },
 "nbformat": 4,
 "nbformat_minor": 4
}
