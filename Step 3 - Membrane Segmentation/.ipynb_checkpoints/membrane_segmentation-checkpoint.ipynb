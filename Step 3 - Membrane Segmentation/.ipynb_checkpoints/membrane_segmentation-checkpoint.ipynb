{
 "cells": [
  {
   "cell_type": "markdown",
   "metadata": {},
   "source": [
    "<h3> Run the following cell to set up imports. Don't forget to update the base_dir, project_name fields </h3>"
   ]
  },
  {
   "cell_type": "code",
   "execution_count": null,
   "metadata": {},
   "outputs": [],
   "source": [
    "import os\n",
    "import sys\n",
    "%run ..//NewFunctions.py\n",
    "\n",
    "#****************** fill these in *************************\n",
    "base_dir = 'D:\\\\Segment'\n",
    "project_name = 'K02288'\n",
    "#****************** fill these in *************************\n",
    "\n",
    "path = os.path.join(base_dir, project_name)\n",
    "\n",
    "Path(os.path.join(path, 'seg', 'mem')).mkdir(parents=True, exist_ok=True)\n",
    "Path(os.path.join(path, 'seg', 'seeds', 'array')).mkdir(parents=True, exist_ok=True)\n",
    "\n",
    "files = []\n",
    "for entry in os.scandir(os.path.join(path, 'processed_images', 'mem')):\n",
    "    if entry.is_file():\n",
    "        files.append(entry)\n",
    "\n",
    "total_file_nums = len(files)\n",
    "\n",
    "%gui qt"
   ]
  },
  {
   "cell_type": "markdown",
   "metadata": {},
   "source": [
    "<h3> Run the following cell segment all of the images </h3>"
   ]
  },
  {
   "cell_type": "code",
   "execution_count": null,
   "metadata": {},
   "outputs": [],
   "source": [
    "for i in range(0, total_file_nums):\n",
    "    seg = DDN.Segmentation.SegmentImage(path, i, save=True)"
   ]
  },
  {
   "cell_type": "markdown",
   "metadata": {},
   "source": [
    "<h3> Run the following cell to check the segmentation </h3>\n"
   ]
  },
  {
   "cell_type": "code",
   "execution_count": null,
   "metadata": {},
   "outputs": [],
   "source": [
    "DDN.Images.ViewStackedImages(path, 0, total_file_nums-1, membranes=True, segmentation=True, nuc=False)"
   ]
  },
  {
   "cell_type": "markdown",
   "metadata": {},
   "source": [
    "<h3> Run the next cell to finalize the initial seeds </h3>"
   ]
  },
  {
   "cell_type": "code",
   "execution_count": null,
   "metadata": {},
   "outputs": [],
   "source": [
    "seed_array = DDN.Segmentation.GetSeedArray(path, 0, total_file_nums)"
   ]
  },
  {
   "cell_type": "markdown",
   "metadata": {},
   "source": [
    "<h3> Run the next cell to automatically try to fix failed seeds </h3>"
   ]
  },
  {
   "cell_type": "code",
   "execution_count": null,
   "metadata": {},
   "outputs": [],
   "source": []
  },
  {
   "cell_type": "markdown",
   "metadata": {},
   "source": [
    "<h3> OPTIONAL: Use this cell to generate files for segmentation on Biowulf </h3>"
   ]
  },
  {
   "cell_type": "code",
   "execution_count": null,
   "metadata": {},
   "outputs": [],
   "source": [
    "all_centroids = []\n",
    "\n",
    "\n",
    "Path(os.path.join(path, 'seg', 'seeds', 'for_biowulf')).mkdir(parents=True, exist_ok=True)\n",
    "\n",
    "for i in range(0, total_file_nums):\n",
    "    clear_output(wait=True)\n",
    "    print('running timepoint ' + str(i))\n",
    "    labs = np.load(os.path.join(path, 'seg', 'seeds', 'seed_' + str(i) + '.npz')\n",
    "    labs = labs['arr_0']\n",
    "    seed, seed_count = DDN.Segmentation.get_3dseed_from_all_frames(labs, labs.shape)\n",
    "    currentProps = regionprops(seed.astype(np.uint8))\n",
    "\n",
    "    for prop in currentProps:\n",
    "        centroid = prop['centroid']\n",
    "\n",
    "        new_centroid = [i, centroid[0], centroid[1], centroid[2]]\n",
    "        all_centroids.append(new_centroid)\n",
    "\n",
    "np.save(os.path.join(path, 'seg', 'seeds', 'for_biowulf', 'new_seeds.npy'), all_centroids)\n",
    "\n",
    "f = open(os.path.join(path, 'seg', 'seeds', 'for_biowulf', 'seg_fixed.swarm'), 'w')\n",
    "for i in range(0, total_file_nums):\n",
    "    myString = 'python3 segment.py ' + str(i)\n",
    "    f.write(myString + '\\n') \n",
    "f.close()"
   ]
  }
 ],
 "metadata": {
  "kernelspec": {
   "display_name": "Python 3",
   "language": "python",
   "name": "python3"
  },
  "language_info": {
   "codemirror_mode": {
    "name": "ipython",
    "version": 3
   },
   "file_extension": ".py",
   "mimetype": "text/x-python",
   "name": "python",
   "nbconvert_exporter": "python",
   "pygments_lexer": "ipython3",
   "version": "3.8.6"
  }
 },
 "nbformat": 4,
 "nbformat_minor": 4
}
