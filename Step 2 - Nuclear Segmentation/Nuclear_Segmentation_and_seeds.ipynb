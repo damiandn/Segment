{
 "cells": [
  {
   "cell_type": "markdown",
   "metadata": {},
   "source": [
    "<h3> Run the following cell to set up imports. Don't forget to update the base_dir, project_name fields </h3>"
   ]
  },
  {
   "cell_type": "code",
   "execution_count": 1,
   "metadata": {},
   "outputs": [
    {
     "name": "stdout",
     "output_type": "stream",
     "text": [
      "Functions Running\n",
      "Functions Loaded\n"
     ]
    }
   ],
   "source": [
    "import os\n",
    "import sys\n",
    "%run ..//NewFunctions.py\n",
    "\n",
    "#****************** fill these in *************************\n",
    "base_dir = 'D:\\\\Segment'\n",
    "project_name = 'K02288'\n",
    "#****************** fill these in *************************\n",
    "\n",
    "path = os.path.join(base_dir, project_name)\n",
    "\n",
    "\n",
    "files = []\n",
    "for entry in os.scandir(os.path.join(path, 'processed_images', 'mem')):\n",
    "    if entry.is_file():\n",
    "        files.append(entry)\n",
    "\n",
    "total_file_nums = len(files)\n",
    "\n",
    "Path(os.path.join(path, 'seg', 'nuc')).mkdir(parents=True, exist_ok=True)\n",
    "Path(os.path.join(path, 'seg', 'seeds')).mkdir(parents=True, exist_ok=True)\n",
    "\n",
    "%gui qt"
   ]
  },
  {
   "cell_type": "markdown",
   "metadata": {},
   "source": [
    "<h3>Check how many rounds of erosion will work for seed generation</h3>"
   ]
  },
  {
   "cell_type": "code",
   "execution_count": null,
   "metadata": {},
   "outputs": [],
   "source": [
    "DDN.PreProcess.OpenErosionTest(path, int(total_file_nums/2))"
   ]
  },
  {
   "cell_type": "markdown",
   "metadata": {},
   "source": [
    "<h3>Segment the nuclei and make the seeds</h3>"
   ]
  },
  {
   "cell_type": "code",
   "execution_count": 2,
   "metadata": {},
   "outputs": [
    {
     "name": "stdout",
     "output_type": "stream",
     "text": [
      "running 178\n"
     ]
    }
   ],
   "source": [
    "#*************** How many times to erode ************************\n",
    "number_of_erosion = 3\n",
    "#*************** How many times to erode ************************\n",
    "\n",
    "for i in range(0, total_file_nums):\n",
    "    clear_output(wait=True)\n",
    "    print('running ' + str(i))\n",
    "    binary = DDN.Segmentation.SimpleSegmentNuclei(path, i, save=True)    \n",
    "    seeds = DDN.Segmentation.ErodeNucleiForSeeds(path, binary, number_of_erosion, i, save=True)"
   ]
  }
 ],
 "metadata": {
  "kernelspec": {
   "display_name": "Python 3",
   "language": "python",
   "name": "python3"
  },
  "language_info": {
   "codemirror_mode": {
    "name": "ipython",
    "version": 3
   },
   "file_extension": ".py",
   "mimetype": "text/x-python",
   "name": "python",
   "nbconvert_exporter": "python",
   "pygments_lexer": "ipython3",
   "version": "3.8.6"
  }
 },
 "nbformat": 4,
 "nbformat_minor": 4
}
