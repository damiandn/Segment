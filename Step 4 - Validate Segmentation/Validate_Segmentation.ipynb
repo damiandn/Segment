{
 "cells": [
  {
   "cell_type": "code",
   "execution_count": 2,
   "metadata": {},
   "outputs": [
    {
     "name": "stdout",
     "output_type": "stream",
     "text": [
      "Functions Running\n",
      "Functions Loaded\n"
     ]
    }
   ],
   "source": [
    "import os\n",
    "import sys\n",
    "%run ..//NewFunctions.py\n",
    "\n",
    "#****************** fill these in *************************\n",
    "base_dir = 'D:\\\\Segment'\n",
    "project_name = 'K02288'\n",
    "#****************** fill these in *************************\n",
    "\n",
    "path = os.path.join(base_dir, project_name)\n",
    "Path(os.path.join(path, 'seg', 'seeds', 'for_biowulf')).mkdir(parents=True, exist_ok=True)\n",
    "\n",
    "\n",
    "files = []\n",
    "for entry in os.scandir(os.path.join(path, 'seg', 'mem')):\n",
    "    if entry.is_file():\n",
    "        files.append(entry)\n",
    "\n",
    "total_file_nums = len(files)\n",
    "\n",
    "shape = DDN.Utils.GetShape(path)\n",
    "%gui qt"
   ]
  },
  {
   "cell_type": "code",
   "execution_count": 3,
   "metadata": {},
   "outputs": [
    {
     "data": {
      "text/plain": [
       "array([[  0.        ,   0.        , 327.5       , 114.        ],\n",
       "       [  0.        , 103.        , 424.        , 113.        ],\n",
       "       [  0.        , 112.        , 344.        , 108.        ],\n",
       "       ...,\n",
       "       [117.        , 144.6891801 , 155.08446154,  93.        ],\n",
       "       [118.        , 143.18971106, 155.53430225,  93.        ],\n",
       "       [ 55.        , 117.        , 452.87498353, 114.8306148 ]])"
      ]
     },
     "execution_count": 3,
     "metadata": {},
     "output_type": "execute_result"
    }
   ],
   "source": [
    "seeds = np.load(path + '\\\\seg\\\\seeds\\\\array\\\\seeds_array.npy')\n",
    "seeds"
   ]
  },
  {
   "cell_type": "code",
   "execution_count": 4,
   "metadata": {},
   "outputs": [
    {
     "data": {
      "text/plain": [
       "array([[  0,   0, 327, 114],\n",
       "       [  0, 103, 424, 113],\n",
       "       [  0, 112, 344, 108],\n",
       "       ...,\n",
       "       [117, 144, 155,  93],\n",
       "       [118, 143, 155,  93],\n",
       "       [ 55, 117, 452, 114]])"
      ]
     },
     "execution_count": 4,
     "metadata": {},
     "output_type": "execute_result"
    }
   ],
   "source": [
    "seeds_int = seeds.astype(int)\n",
    "seeds_int"
   ]
  },
  {
   "cell_type": "code",
   "execution_count": 33,
   "metadata": {},
   "outputs": [
    {
     "name": "stdout",
     "output_type": "stream",
     "text": [
      "[  0 123 105 123]\n"
     ]
    }
   ],
   "source": [
    "for seed in seeds_int:\n",
    "    if seed[0] == 0:\n",
    "        if seed[1] == 123:\n",
    "            if seed[2] == 105:\n",
    "                if seed[3] == 123:\n",
    "                    print(seed)"
   ]
  },
  {
   "cell_type": "code",
   "execution_count": 39,
   "metadata": {},
   "outputs": [],
   "source": [
    "im = np.load(path + '\\\\seg\\\\mem\\\\seg_1.npz')\n",
    "im = im['arr_0']"
   ]
  },
  {
   "cell_type": "code",
   "execution_count": 40,
   "metadata": {},
   "outputs": [],
   "source": [
    "labs, _ = ndi.label(skimage.util.invert(im))"
   ]
  },
  {
   "cell_type": "code",
   "execution_count": 44,
   "metadata": {},
   "outputs": [
    {
     "data": {
      "text/plain": [
       "[(127.0, 127.0, 89.0),\n",
       " (128.0, 163.0, 100.0),\n",
       " (130.0, 154.0, 81.0),\n",
       " (137.0, 158.0, 107.0)]"
      ]
     },
     "execution_count": 44,
     "metadata": {},
     "output_type": "execute_result"
    }
   ],
   "source": [
    "props = regionprops(labs)\n",
    "\n",
    "small_centroids = []\n",
    "\n",
    "for prop in props:\n",
    "    if prop['Area'] == 1:\n",
    "        small_centroids.append(prop['Centroid'])\n"
   ]
  },
  {
   "cell_type": "code",
   "execution_count": 117,
   "metadata": {},
   "outputs": [],
   "source": [
    "seeds_list = list(seeds)"
   ]
  },
  {
   "cell_type": "code",
   "execution_count": 115,
   "metadata": {},
   "outputs": [
    {
     "data": {
      "text/plain": [
       "24636"
      ]
     },
     "execution_count": 115,
     "metadata": {},
     "output_type": "execute_result"
    }
   ],
   "source": [
    "len(seeds_list)"
   ]
  },
  {
   "cell_type": "code",
   "execution_count": 118,
   "metadata": {},
   "outputs": [
    {
     "name": "stdout",
     "output_type": "stream",
     "text": [
      "running timepoint 178\n"
     ]
    }
   ],
   "source": [
    "small_centroids = []\n",
    "props_removed = 0\n",
    "\n",
    "for timepoint in range(0, total_file_nums):\n",
    "    clear_output(wait=True)\n",
    "    print('running timepoint ' + str(timepoint))\n",
    "\n",
    "    im = np.load(path + '\\\\seg\\\\mem\\\\seg_' + str(timepoint) + '.npz')\n",
    "    im = im['arr_0']\n",
    "    labs, _ = ndi.label(skimage.util.invert(im))\n",
    "    props = regionprops(labs)\n",
    "    for prop in props:\n",
    "        if prop['Area'] == 1:\n",
    "            small_centroids.append(prop['Centroid'])\n",
    "    \n",
    "    for centroid in small_centroids:\n",
    "\n",
    "        if IsPointInsideOtherLabel(labs, centroid):\n",
    "\n",
    "            centroid_z, centroid_y, centroid_x = int(centroid[0]), int(centroid[1]), int(centroid[2])\n",
    "\n",
    "            for i, point in enumerate(seeds_list):\n",
    "                    if point[0] == timepoint:\n",
    "                        if point[1] == centroid_z:\n",
    "                            if point[2] == centroid_y:\n",
    "                                if point[3] == centroid_x:\n",
    "                                    #print(point, i)\n",
    "                                    seeds_list.pop(i)\n",
    "                                    props_removed = props_removed + 1"
   ]
  },
  {
   "cell_type": "code",
   "execution_count": 119,
   "metadata": {},
   "outputs": [
    {
     "name": "stdout",
     "output_type": "stream",
     "text": [
      "143\n"
     ]
    }
   ],
   "source": [
    "print(props_removed)"
   ]
  },
  {
   "cell_type": "code",
   "execution_count": 120,
   "metadata": {},
   "outputs": [
    {
     "data": {
      "text/plain": [
       "24493"
      ]
     },
     "execution_count": 120,
     "metadata": {},
     "output_type": "execute_result"
    }
   ],
   "source": [
    "len(seeds_list)"
   ]
  },
  {
   "cell_type": "code",
   "execution_count": 121,
   "metadata": {},
   "outputs": [],
   "source": [
    "np.save(path + '\\\\seg\\\\seeds\\\\array\\\\seeds_array_clean.npy', seeds_list)\n",
    "\n",
    "\n",
    "\n",
    "#resegment on the new array"
   ]
  },
  {
   "cell_type": "code",
   "execution_count": 5,
   "metadata": {},
   "outputs": [],
   "source": [
    "new_seeds = np.load(path + '\\\\seg\\\\seeds\\\\array\\\\seeds_array_clean.npy')"
   ]
  },
  {
   "cell_type": "code",
   "execution_count": 24,
   "metadata": {},
   "outputs": [
    {
     "name": "stdout",
     "output_type": "stream",
     "text": [
      "running timepoint 1\n",
      "(127.0, 127.0, 89.0)\n",
      "min = 4\n",
      "(130.0, 154.0, 81.0)\n",
      "min = 6\n"
     ]
    }
   ],
   "source": [
    "#now, jitter the points that are not surrounded one time\n",
    "\n",
    "small_centroids = []\n",
    "\n",
    "#for each point that's not surrounded, find the lowest intensity pixel within 4 pixels and put it there instead\n",
    "timepoint = 1\n",
    "\n",
    "clear_output(wait=True)\n",
    "print('running timepoint ' + str(timepoint))\n",
    "\n",
    "im = np.load(path + '\\\\seg\\\\mem\\\\seg_' + str(timepoint) + '.npz')\n",
    "im = im['arr_0']\n",
    "im_raw = np.load(path + '\\\\processed_images\\\\mem\\\\mem_' + str(timepoint) + '.npz')\n",
    "im_raw = im_raw['arr_0']\n",
    "labs, _ = ndi.label(skimage.util.invert(im))\n",
    "props = regionprops(labs)\n",
    "for prop in props:\n",
    "    if prop['Area'] == 1:\n",
    "        small_centroids.append(prop['Centroid'])\n",
    "\n",
    "for centroid in small_centroids:\n",
    "\n",
    "    if not IsPointInsideOtherLabel(labs, centroid):\n",
    "\n",
    "        print(centroid)\n",
    "        centroid = (int(centroid[0]), int(centroid[1]), int(centroid[2]))\n",
    "        bounding = DDN.Utils.getBoundingBox(im_raw, centroid, 4)\n",
    "        #print(bounding)\n",
    "        print('min = ' + str(bounding[0].min()))\n",
    "        \n",
    "        \n",
    "        \"\"\"\n",
    "        centroid_z, centroid_y, centroid_x = int(centroid[0]), int(centroid[1]), int(centroid[2])\n",
    "\n",
    "        for i, point in enumerate(seeds_list):\n",
    "                if point[0] == timepoint:\n",
    "                    if point[1] == centroid_z:\n",
    "                        if point[2] == centroid_y:\n",
    "                            if point[3] == centroid_x:\n",
    "                                #print(point, i)\n",
    "                                seeds_list.pop(i)\n",
    "                                props_removed = props_removed + 1\n",
    "\"\"\""
   ]
  },
  {
   "cell_type": "code",
   "execution_count": 75,
   "metadata": {},
   "outputs": [
    {
     "data": {
      "text/plain": [
       "(127, 124, 88, 4)"
      ]
     },
     "execution_count": 75,
     "metadata": {},
     "output_type": "execute_result"
    }
   ],
   "source": [
    "GetMinValuePositionAroundCentroid(im_raw, (127, 127, 89), 3)\n",
    "\n",
    "#move the seed to this position\n",
    "\n",
    "#change the old seed to this seed\n",
    "\n"
   ]
  },
  {
   "cell_type": "code",
   "execution_count": 71,
   "metadata": {},
   "outputs": [],
   "source": [
    "def GetMinValuePositionAroundCentroid(im, centroid, dist):\n",
    "\n",
    "    #change this to get value around centroid from im\n",
    "    \n",
    "    min_val = 9999\n",
    "    min_x = -1\n",
    "    min_y = -1\n",
    "    min_z = -1\n",
    "\n",
    "\n",
    "    \n",
    "    for z in range(centroid[0]-dist, centroid[0] + dist+1):\n",
    "        for y in range(centroid[1]-dist, centroid[1] + dist+1):\n",
    "            for x in range(centroid[2]-dist, centroid[2] + dist+1):\n",
    "                if im[z][y][x] < min_val:\n",
    "                    min_val = im[z][y][x]\n",
    "                    min_z = z\n",
    "                    min_y = y\n",
    "                    min_x = x\n",
    "\n",
    "    return min_z, min_y, min_x, min_val\n",
    "\n"
   ]
  },
  {
   "cell_type": "code",
   "execution_count": 44,
   "metadata": {},
   "outputs": [
    {
     "data": {
      "text/plain": [
       "487"
      ]
     },
     "execution_count": 44,
     "metadata": {},
     "output_type": "execute_result"
    }
   ],
   "source": [
    "temp = np.argmin(bounding[0])\n",
    "temp"
   ]
  },
  {
   "cell_type": "code",
   "execution_count": 52,
   "metadata": {},
   "outputs": [
    {
     "data": {
      "text/plain": [
       "(array([[[ 31,  24,  23,  21,  14,  31,  86, 162, 274],\n",
       "         [ 55,  41,  23,  18,  18,  44, 123, 229, 329],\n",
       "         [ 59,  41,  25,  25,  32,  72, 161, 271, 270],\n",
       "         [ 32,  22,  20,  18,  33,  99, 264, 379, 229],\n",
       "         [ 21,  11,  10,  23,  55, 140, 298, 313, 182],\n",
       "         [ 20,  19,  26,  41,  90, 251, 392, 250,  91],\n",
       "         [ 17,  17,  28,  50, 116, 234, 272, 188,  80],\n",
       "         [ 28,  26,  47,  81, 195, 338, 299, 169,  79],\n",
       "         [ 23,  18,  45, 114, 294, 419, 257, 121,  56]],\n",
       " \n",
       "        [[ 22,  13,  16,  16,  26,  40,  80, 216, 314],\n",
       "         [ 38,  38,  32,  21,  21,  37,  95, 242, 354],\n",
       "         [ 47,  38,  32,  24,  43,  88, 168, 275, 239],\n",
       "         [ 32,  30,  21,  16,  40, 119, 254, 307, 185],\n",
       "         [ 14,  16,  13,  23,  59, 159, 306, 280, 141],\n",
       "         [ 21,  21,  26,  35,  87, 254, 350, 205,  78],\n",
       "         [ 14,  19,  29,  64, 149, 246, 253, 171,  84],\n",
       "         [ 24,  35,  49, 115, 249, 304, 239, 158,  80],\n",
       "         [ 25,  35,  51, 158, 326, 315, 237, 148,  57]],\n",
       " \n",
       "        [[ 19,  11,   9,  21,  36,  52,  98, 201, 291],\n",
       "         [ 35,  37,  27,  23,  30,  44, 102, 250, 344],\n",
       "         [ 30,  30,  27,  28,  40,  88, 206, 295, 245],\n",
       "         [ 21,  25,  17,  20,  40, 138, 276, 223, 147],\n",
       "         [ 12,  16,  20,  27,  72, 208, 314, 224, 124],\n",
       "         [ 19,  19,  23,  44, 122, 251, 272, 175,  96],\n",
       "         [ 15,  22,  34,  66, 168, 287, 267, 165,  85],\n",
       "         [ 26,  42,  72, 121, 189, 261, 268, 157,  61],\n",
       "         [ 29,  50, 100, 165, 213, 276, 289, 149,  49]],\n",
       " \n",
       "        [[ 17,  11,  16,  27,  39,  60, 108, 170, 251],\n",
       "         [ 32,  23,  21,  29,  40,  59, 132, 262, 290],\n",
       "         [ 19,  20,  21,  30,  44,  86, 213, 325, 274],\n",
       "         [ 17,  11,  16,  31,  53, 120, 244, 248, 184],\n",
       "         [ 14,   9,  24,  41,  97, 224, 281, 232, 150],\n",
       "         [ 17,  14,  20,  59, 148, 235, 244, 195, 121],\n",
       "         [ 20,  21,  34,  70, 171, 309, 311, 189,  88],\n",
       "         [ 31,  44,  72, 105, 182, 272, 257, 154,  61],\n",
       "         [ 50,  75, 125, 163, 209, 294, 273, 140,  53]],\n",
       " \n",
       "        [[ 14,  15,  18,  20,  45,  83, 104, 157, 245],\n",
       "         [ 18,  15,  24,  38,  53,  89, 139, 243, 286],\n",
       "         [ 15,  15,  18,  33,  59, 114, 181, 297, 289],\n",
       "         [ 17,  14,  18,  40,  82, 110, 161, 288, 266],\n",
       "         [ 15,  12,  17,  58, 138, 195, 251, 281, 180],\n",
       "         [ 18,  12,  23,  69, 140, 207, 267, 244, 127],\n",
       "         [ 24,  21,  36,  89, 171, 261, 321, 231, 100],\n",
       "         [ 36,  46,  55, 116, 230, 291, 253, 153,  74],\n",
       "         [ 72,  94, 105, 186, 340, 346, 225, 118,  67]],\n",
       " \n",
       "        [[ 15,  10,  13,  21,  52, 105, 120, 158, 263],\n",
       "         [ 11,  11,  24,  43,  77, 130, 171, 221, 270],\n",
       "         [  9,  12,  23,  40,  78, 152, 214, 259, 248],\n",
       "         [ 17,  20,  28,  46,  85, 153, 217, 274, 256],\n",
       "         [ 18,  23,  30,  56, 126, 220, 305, 269, 174],\n",
       "         [ 14,  20,  41,  83, 141, 209, 285, 247, 139],\n",
       "         [ 16,  27,  55, 111, 179, 255, 282, 212, 126],\n",
       "         [ 33,  45,  70, 131, 224, 314, 263, 142,  80],\n",
       "         [ 66,  83, 140, 204, 311, 355, 216, 109,  66]],\n",
       " \n",
       "        [[ 21,   6,   9,  30,  61,  84, 142, 185, 231],\n",
       "         [ 10,   9,  17,  49, 100, 137, 211, 251, 235],\n",
       "         [  8,   9,  22,  48,  96, 148, 252, 294, 219],\n",
       "         [ 14,  18,  37,  61,  98, 175, 262, 296, 211],\n",
       "         [ 19,  29,  51,  68, 124, 253, 298, 262, 181],\n",
       "         [ 15,  38,  66,  89, 170, 251, 265, 230, 156],\n",
       "         [ 11,  47,  85, 111, 217, 305, 264, 171, 114],\n",
       "         [ 30,  50,  97, 152, 216, 288, 248, 128,  76],\n",
       "         [ 60,  79, 170, 273, 263, 248, 193,  85,  50]],\n",
       " \n",
       "        [[ 14,  10,  10,  26,  57, 108, 140, 172, 198],\n",
       "         [ 10,   9,  12,  41, 100, 163, 189, 211, 236],\n",
       "         [ 11,  11,  16,  41, 101, 161, 198, 251, 257],\n",
       "         [ 14,  14,  27,  70, 125, 170, 234, 271, 226],\n",
       "         [ 16,  23,  44, 116, 194, 225, 252, 255, 217],\n",
       "         [ 22,  44,  69, 128, 205, 259, 243, 214, 169],\n",
       "         [ 31,  57,  98, 156, 233, 309, 256, 153,  90],\n",
       "         [ 54,  67, 117, 202, 241, 227, 193, 124,  74],\n",
       "         [ 84, 101, 171, 295, 333, 210, 115,  63,  48]],\n",
       " \n",
       "        [[  8,   9,   9,  14,  53, 140, 190, 169, 175],\n",
       "         [ 11,   9,  10,  31, 104, 189, 187, 171, 206],\n",
       "         [ 12,   9,  14,  45, 117, 168, 148, 174, 221],\n",
       "         [ 15,  11,  18,  61, 135, 180, 197, 201, 203],\n",
       "         [ 16,  16,  41, 131, 206, 206, 223, 217, 207],\n",
       "         [ 27,  36,  80, 177, 210, 214, 229, 204, 167],\n",
       "         [ 49,  64, 110, 213, 259, 242, 213, 155, 119],\n",
       "         [ 73, 104, 141, 244, 289, 209, 135,  99,  86],\n",
       "         [133, 164, 177, 263, 347, 229,  86,  51,  55]]], dtype=uint16),\n",
       " 138)"
      ]
     },
     "execution_count": 52,
     "metadata": {},
     "output_type": "execute_result"
    }
   ],
   "source": [
    "bounding\n"
   ]
  },
  {
   "cell_type": "code",
   "execution_count": 9,
   "metadata": {},
   "outputs": [],
   "source": [
    "def IsPointInsideOtherLabel(labs, centroid):\n",
    "    \n",
    "    centroid_z, centroid_y, centroid_x = int(centroid[0]), int(centroid[1]), int(centroid[2])\n",
    "    \n",
    "    label = labs[centroid_z, centroid_y, centroid_x]\n",
    "        \n",
    "    if labs[centroid_z, centroid_y-1, centroid_x-1] != 1 and labs[centroid_z, centroid_y-1, centroid_x+1] != 1 and labs[centroid_z, centroid_y+1, centroid_x+1] != 1 and labs[centroid_z, centroid_y+1, centroid_x-1] != 1:\n",
    "        \n",
    "        return True\n",
    "    else:\n",
    "        return False"
   ]
  },
  {
   "cell_type": "code",
   "execution_count": 123,
   "metadata": {},
   "outputs": [
    {
     "name": "stdout",
     "output_type": "stream",
     "text": [
      "running timepoint 1\n"
     ]
    },
    {
     "data": {
      "text/plain": [
       "array([[[False, False, False, ..., False, False, False],\n",
       "        [False, False, False, ..., False, False, False],\n",
       "        [False, False, False, ..., False, False, False],\n",
       "        ...,\n",
       "        [False, False, False, ..., False, False, False],\n",
       "        [False, False, False, ..., False, False, False],\n",
       "        [False, False, False, ..., False, False, False]],\n",
       "\n",
       "       [[False, False, False, ..., False, False, False],\n",
       "        [False, False, False, ..., False, False, False],\n",
       "        [False, False, False, ..., False, False, False],\n",
       "        ...,\n",
       "        [False, False, False, ..., False, False, False],\n",
       "        [False, False, False, ..., False, False, False],\n",
       "        [False, False, False, ..., False, False, False]],\n",
       "\n",
       "       [[False, False, False, ..., False, False, False],\n",
       "        [False, False, False, ..., False, False, False],\n",
       "        [False, False, False, ..., False, False, False],\n",
       "        ...,\n",
       "        [False, False, False, ..., False, False, False],\n",
       "        [False, False, False, ..., False, False, False],\n",
       "        [False, False, False, ..., False, False, False]],\n",
       "\n",
       "       ...,\n",
       "\n",
       "       [[False, False, False, ..., False, False, False],\n",
       "        [False, False, False, ..., False, False, False],\n",
       "        [False, False, False, ..., False, False, False],\n",
       "        ...,\n",
       "        [False, False, False, ..., False, False, False],\n",
       "        [False, False, False, ..., False, False, False],\n",
       "        [False, False, False, ..., False, False, False]],\n",
       "\n",
       "       [[False, False, False, ..., False, False, False],\n",
       "        [False, False, False, ..., False, False, False],\n",
       "        [False, False, False, ..., False, False, False],\n",
       "        ...,\n",
       "        [False, False, False, ..., False, False, False],\n",
       "        [False, False, False, ..., False, False, False],\n",
       "        [False, False, False, ..., False, False, False]],\n",
       "\n",
       "       [[False, False, False, ..., False, False, False],\n",
       "        [False, False, False, ..., False, False, False],\n",
       "        [False, False, False, ..., False, False, False],\n",
       "        ...,\n",
       "        [False, False, False, ..., False, False, False],\n",
       "        [False, False, False, ..., False, False, False],\n",
       "        [False, False, False, ..., False, False, False]]])"
      ]
     },
     "execution_count": 123,
     "metadata": {},
     "output_type": "execute_result"
    }
   ],
   "source": [
    "DDN.Segmentation.SegmentFromSeedArray(path, shape, 1, new_seeds, save=True)"
   ]
  },
  {
   "cell_type": "code",
   "execution_count": 41,
   "metadata": {},
   "outputs": [
    {
     "name": "stderr",
     "output_type": "stream",
     "text": [
      "WARNING: QWindowsWindow::setGeometry: Unable to set geometry 1090x690+0+36 (frame: 1108x737-9-2) on QWidgetWindow/\"_QtMainWindowClassWindow\" on \"\\\\.\\DISPLAY2\". Resulting geometry: 909x575-2+29 (frame: 927x622-11-9) margins: 9, 38, 9, 9 minimum size: 612x552 MINMAXINFO maxSize=0,0 maxpos=0,0 mintrack=630,599 maxtrack=0,0)\n"
     ]
    },
    {
     "name": "stdout",
     "output_type": "stream",
     "text": [
      "2021-08-26 11:06:11,797 [WARNING] QWindowsWindow::setGeometry: Unable to set geometry 1090x690+0+36 (frame: 1108x737-9-2) on QWidgetWindow/\"_QtMainWindowClassWindow\" on \"\\\\.\\DISPLAY2\". Resulting geometry: 909x575-2+29 (frame: 927x622-11-9) margins: 9, 38, 9, 9 minimum size: 612x552 MINMAXINFO maxSize=0,0 maxpos=0,0 mintrack=630,599 maxtrack=0,0)\n"
     ]
    }
   ],
   "source": [
    "viewer = napari.Viewer()\n",
    "\n",
    "\n",
    "\n",
    "viewer.add_labels(labs, name = 'labs');"
   ]
  },
  {
   "cell_type": "code",
   "execution_count": 11,
   "metadata": {
    "scrolled": true
   },
   "outputs": [
    {
     "name": "stdout",
     "output_type": "stream",
     "text": [
      "loading membrane image part 1\n",
      "Finished!\n"
     ]
    }
   ],
   "source": [
    "#load all the images and stack them into a 4D array\n",
    "membranes, seg, confidence, changes, average, small_areas, nuc, nuc_confidence, labels, labs_bin = DDN.Images.MakeStackedImages(path, min_tp = 1, max_tp = 2, membranes_bool=True, small_areas_bool=False, segmentation_bool=True, confidence_bool=False, changes_bool=False, average_bool=False, nuc_bool=False, nuc_intersect_bool=False, labels_bool=False, labs_bin_bool=True)\n",
    "    "
   ]
  },
  {
   "cell_type": "code",
   "execution_count": 12,
   "metadata": {
    "scrolled": true
   },
   "outputs": [
    {
     "name": "stdout",
     "output_type": "stream",
     "text": [
      "2021-08-26 13:17:04,180 [INFO] WRITING LOG OUTPUT TO C:\\Users\\dalledam\\.cellpose\\run.log\n"
     ]
    },
    {
     "name": "stderr",
     "output_type": "stream",
     "text": [
      "WARNING: QWindowsWindow::setGeometry: Unable to set geometry 1090x690+0+36 (frame: 1108x737-9-2) on QWidgetWindow/\"_QtMainWindowClassWindow\" on \"\\\\.\\DISPLAY2\". Resulting geometry: 909x575-2+29 (frame: 927x622-11-9) margins: 9, 38, 9, 9 minimum size: 612x552 MINMAXINFO maxSize=0,0 maxpos=0,0 mintrack=630,599 maxtrack=0,0)\n"
     ]
    },
    {
     "name": "stdout",
     "output_type": "stream",
     "text": [
      "2021-08-26 13:17:04,499 [WARNING] QWindowsWindow::setGeometry: Unable to set geometry 1090x690+0+36 (frame: 1108x737-9-2) on QWidgetWindow/\"_QtMainWindowClassWindow\" on \"\\\\.\\DISPLAY2\". Resulting geometry: 909x575-2+29 (frame: 927x622-11-9) margins: 9, 38, 9, 9 minimum size: 612x552 MINMAXINFO maxSize=0,0 maxpos=0,0 mintrack=630,599 maxtrack=0,0)\n"
     ]
    },
    {
     "data": {
      "text/plain": [
       "<napari._qt.widgets.qt_viewer_dock_widget.QtViewerDockWidget at 0x19baa188310>"
      ]
     },
     "execution_count": 12,
     "metadata": {},
     "output_type": "execute_result"
    }
   ],
   "source": [
    "\n",
    "#fix the OS path issue here\n",
    "\n",
    "seeds = np.load(path + '\\\\seg\\\\seeds\\\\array\\\\seeds_array.npy')\n",
    "\n",
    "\n",
    "#overwrite the old seeds with these new ones\n",
    "#np.save(path + '\\\\seg\\\\seeds\\\\array\\\\old_seeds.npy', seeds)\n",
    "\n",
    "\n",
    "viewer = napari.Viewer()\n",
    "\n",
    "\n",
    "\n",
    "if type(membranes) == np.ndarray:\n",
    "    viewer.add_image(membranes, name = 'membranes', blending='additive', colormap='green');\n",
    "\n",
    "if type(seg) == np.ndarray:\n",
    "    viewer.add_image(seg, name = 'seg', blending='additive', colormap='red');\n",
    "\n",
    "if type(nuc) == np.ndarray:\n",
    "    viewer.add_image(nuc, name = 'nuclei', blending='additive', colormap='gray');\n",
    "\n",
    "if type(nuc_confidence) == np.ndarray:\n",
    "    viewer.add_image(nuc_confidence, name = 'nuc confidence', blending='additive', colormap='yellow');\n",
    "\n",
    "if type(small_areas) == np.ndarray:\n",
    "    viewer.add_image(small_areas, name = 'small_areas', blending='additive', colormap='blue');\n",
    "\n",
    "if type(confidence) == np.ndarray:\n",
    "    viewer.add_image(confidence, name = 'potential_errors', blending='additive', colormap='gray');\n",
    "\n",
    "if type(changes) == np.ndarray:\n",
    "    viewer.add_image(changes, name = 'changes', blending='additive', colormap='blue');\n",
    "\n",
    "if type(labels) == np.ndarray:\n",
    "    viewer.add_image(labels, name = 'labels', blending='additive', colormap='blue');\n",
    "\n",
    "if type(labs_bin) == np.ndarray:\n",
    "    viewer.add_image(labs_bin, name = 'binary labels', blending='additive', colormap='gray');\n",
    "\n",
    "    \n",
    "viewer.add_points(seeds, size=5, name='seeds', opacity=1, face_color='violet', blending='opaque')\n",
    "\n",
    "@viewer.bind_key('k')\n",
    "def zplus(viewer):\n",
    "    current_z = viewer.dims.current_step[1]\n",
    "    viewer.dims.set_point(1, current_z+1)\n",
    "\n",
    "@viewer.bind_key('j')\n",
    "def zminus(viewer):\n",
    "    current_z = viewer.dims.current_step[1]\n",
    "    viewer.dims.set_point(1, current_z-1)\n",
    "\n",
    "\n",
    "@viewer.bind_key('.')\n",
    "def tplus(viewer):\n",
    "    current_tp = viewer.dims.current_step[0]\n",
    "    viewer.dims.set_point(0, current_tp + 1)\n",
    "\n",
    "\n",
    "@viewer.bind_key(',')\n",
    "def tminus(viewer):\n",
    "    current_tp = viewer.dims.current_step[0]\n",
    "    viewer.dims.set_point(0, current_tp - 1)\n",
    "\n",
    "\n",
    "@magicgui(call_button='saveSeeds')\n",
    "def saveSeeds():\n",
    "\n",
    "    seeds = viewer.layers['seeds'].data       \n",
    "    np.save(path + '\\\\seg\\\\seeds\\\\array\\\\seeds_array.npy', seeds) \n",
    "    \n",
    "    f = open(path + \"\\\\seg\\\\seeds\\\\for_biowulf\\\\seg_fixed.swarm\", \"a\")\n",
    "    for i in range(0, total_file_nums):    \n",
    "        myString = 'python3 segment_round2.py ' + str(i)\n",
    "        f.write(myString + '\\n')\n",
    "\n",
    "    f.close()\n",
    " \n",
    "    \n",
    "viewer.window.add_dock_widget(saveSeeds, area='right')\n",
    "\n"
   ]
  },
  {
   "cell_type": "code",
   "execution_count": null,
   "metadata": {},
   "outputs": [],
   "source": [
    "#segment changed fromes\n",
    "\n",
    "seeds = np.load(path + '\\\\seg\\\\seeds\\\\array\\\\seeds_array.npy')\n",
    "\n",
    "for i in range(0, total_file_nums):\n",
    "    if DDN.Utils.checkDifferenceBetweenSeedArrays(i, path):\n",
    "        DDN.Segmentation.SegmentFromSeedArray(path, shape, i, seeds, save=True)\n",
    "        \n",
    "        \n"
   ]
  }
 ],
 "metadata": {
  "kernelspec": {
   "display_name": "Python 3",
   "language": "python",
   "name": "python3"
  },
  "language_info": {
   "codemirror_mode": {
    "name": "ipython",
    "version": 3
   },
   "file_extension": ".py",
   "mimetype": "text/x-python",
   "name": "python",
   "nbconvert_exporter": "python",
   "pygments_lexer": "ipython3",
   "version": "3.8.6"
  }
 },
 "nbformat": 4,
 "nbformat_minor": 4
}
