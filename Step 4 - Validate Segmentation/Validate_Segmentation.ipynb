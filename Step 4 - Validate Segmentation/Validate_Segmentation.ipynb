{
 "cells": [
  {
   "cell_type": "code",
   "execution_count": 1,
   "metadata": {},
   "outputs": [
    {
     "name": "stdout",
     "output_type": "stream",
     "text": [
      "Functions Running\n",
      "Functions Loaded\n"
     ]
    }
   ],
   "source": [
    "import os\n",
    "import sys\n",
    "%run ..//NewFunctions.py\n",
    "\n",
    "#****************** fill these in *************************\n",
    "base_dir = 'D:\\\\Segment'\n",
    "project_name = 'K02288'\n",
    "#****************** fill these in *************************\n",
    "\n",
    "path = os.path.join(base_dir, project_name)\n",
    "Path(os.path.join(path, 'seg', 'seeds', 'for_biowulf')).mkdir(parents=True, exist_ok=True)\n",
    "\n",
    "\n",
    "files = []\n",
    "for entry in os.scandir(os.path.join(path, 'seg', 'mem')):\n",
    "    if entry.is_file():\n",
    "        files.append(entry)\n",
    "\n",
    "total_file_nums = len(files)\n",
    "\n",
    "shape = DDN.Utils.GetShape(path)\n",
    "%gui qt\n"
   ]
  },
  {
   "cell_type": "code",
   "execution_count": 2,
   "metadata": {
    "scrolled": true
   },
   "outputs": [
    {
     "name": "stdout",
     "output_type": "stream",
     "text": [
      "loading membrane image part 178\n",
      "Finished!\n"
     ]
    }
   ],
   "source": [
    "#load all the images and stack them into a 4D array\n",
    "membranes, seg, confidence, changes, average, small_areas, nuc, nuc_confidence, labels, labs_bin = DDN.Images.MakeStackedImages(path, min_tp = 0, max_tp = total_file_nums, membranes_bool=True, small_areas_bool=False, segmentation_bool=True, confidence_bool=False, changes_bool=False, average_bool=False, nuc_bool=False, nuc_intersect_bool=False, labels_bool=False, labs_bin_bool=False)\n",
    "    "
   ]
  },
  {
   "cell_type": "code",
   "execution_count": 5,
   "metadata": {
    "scrolled": true
   },
   "outputs": [
    {
     "name": "stdout",
     "output_type": "stream",
     "text": [
      "2021-08-30 11:03:38,870 [INFO] WRITING LOG OUTPUT TO C:\\Users\\dalledam\\.cellpose\\run.log\n"
     ]
    },
    {
     "name": "stderr",
     "output_type": "stream",
     "text": [
      "WARNING: QWindowsWindow::setGeometry: Unable to set geometry 1090x690+0+36 (frame: 1108x737-9-2) on QWidgetWindow/\"_QtMainWindowClassWindow\" on \"\\\\.\\DISPLAY2\". Resulting geometry: 909x575-2+29 (frame: 927x622-11-9) margins: 9, 38, 9, 9 minimum size: 612x552 MINMAXINFO maxSize=0,0 maxpos=0,0 mintrack=630,599 maxtrack=0,0)\n"
     ]
    },
    {
     "name": "stdout",
     "output_type": "stream",
     "text": [
      "2021-08-30 11:03:39,176 [WARNING] QWindowsWindow::setGeometry: Unable to set geometry 1090x690+0+36 (frame: 1108x737-9-2) on QWidgetWindow/\"_QtMainWindowClassWindow\" on \"\\\\.\\DISPLAY2\". Resulting geometry: 909x575-2+29 (frame: 927x622-11-9) margins: 9, 38, 9, 9 minimum size: 612x552 MINMAXINFO maxSize=0,0 maxpos=0,0 mintrack=630,599 maxtrack=0,0)\n"
     ]
    },
    {
     "data": {
      "text/plain": [
       "<napari._qt.widgets.qt_viewer_dock_widget.QtViewerDockWidget at 0x1e9182ae700>"
      ]
     },
     "execution_count": 5,
     "metadata": {},
     "output_type": "execute_result"
    }
   ],
   "source": [
    "\n",
    "#fix the OS path issue here\n",
    "\n",
    "seeds = np.load(os.path.join(path, 'seg', 'seeds', 'array', 'seeds_array.npy'))\n",
    "\n",
    "\n",
    "#overwrite the old seeds with these new ones\n",
    "np.save(os.path.join(path, 'seg', 'seeds', 'array', 'old_seeds.npy'), seeds)\n",
    "\n",
    "\n",
    "viewer = napari.Viewer()\n",
    "\n",
    "\n",
    "\n",
    "if type(membranes) == np.ndarray:\n",
    "    viewer.add_image(membranes, name = 'membranes', blending='additive', colormap='green');\n",
    "\n",
    "if type(seg) == np.ndarray:\n",
    "    viewer.add_image(seg, name = 'seg', blending='additive', colormap='red');\n",
    "\n",
    "if type(nuc) == np.ndarray:\n",
    "    viewer.add_image(nuc, name = 'nuclei', blending='additive', colormap='gray');\n",
    "\n",
    "if type(nuc_confidence) == np.ndarray:\n",
    "    viewer.add_image(nuc_confidence, name = 'nuc confidence', blending='additive', colormap='yellow');\n",
    "\n",
    "if type(small_areas) == np.ndarray:\n",
    "    viewer.add_image(small_areas, name = 'small_areas', blending='additive', colormap='blue');\n",
    "\n",
    "if type(confidence) == np.ndarray:\n",
    "    viewer.add_image(confidence, name = 'potential_errors', blending='additive', colormap='gray');\n",
    "\n",
    "if type(changes) == np.ndarray:\n",
    "    viewer.add_image(changes, name = 'changes', blending='additive', colormap='blue');\n",
    "\n",
    "if type(labels) == np.ndarray:\n",
    "    viewer.add_image(labels, name = 'labels', blending='additive', colormap='blue');\n",
    "\n",
    "if type(labs_bin) == np.ndarray:\n",
    "    viewer.add_image(labs_bin, name = 'binary labels', blending='additive', colormap='gray');\n",
    "\n",
    "    \n",
    "viewer.add_points(seeds, size=5, name='seeds', opacity=1, face_color='violet', blending='opaque')\n",
    "\n",
    "@viewer.bind_key('k')\n",
    "def zplus(viewer):\n",
    "    current_z = viewer.dims.current_step[1]\n",
    "    viewer.dims.set_point(1, current_z+1)\n",
    "\n",
    "@viewer.bind_key('j')\n",
    "def zminus(viewer):\n",
    "    current_z = viewer.dims.current_step[1]\n",
    "    viewer.dims.set_point(1, current_z-1)\n",
    "\n",
    "\n",
    "@viewer.bind_key('.')\n",
    "def tplus(viewer):\n",
    "    current_tp = viewer.dims.current_step[0]\n",
    "    viewer.dims.set_point(0, current_tp + 1)\n",
    "\n",
    "\n",
    "@viewer.bind_key(',')\n",
    "def tminus(viewer):\n",
    "    current_tp = viewer.dims.current_step[0]\n",
    "    viewer.dims.set_point(0, current_tp - 1)\n",
    "\n",
    "\n",
    "@magicgui(call_button='saveSeeds')\n",
    "def saveSeeds():\n",
    "\n",
    "    seeds = viewer.layers['seeds'].data       \n",
    "    np.save(os.path.join(path, 'seg', 'seeds', 'array', 'seeds_array.npy'), seeds) \n",
    "    \n",
    "    f = open(os.path.join(path,  'seg', 'seeds', 'for_biowulf', 'seg_fixed.swarm', 'a'))\n",
    "    for i in range(0, total_file_nums):    \n",
    "        myString = 'python3 segment_round2.py ' + str(i)\n",
    "        f.write(myString + '\\n')\n",
    "\n",
    "    f.close()\n",
    " \n",
    "    \n",
    "viewer.window.add_dock_widget(saveSeeds, area='right')\n",
    "\n"
   ]
  },
  {
   "cell_type": "code",
   "execution_count": null,
   "metadata": {},
   "outputs": [],
   "source": [
    "#segment changed fromes\n",
    "\n",
    "seeds = np.load(os.path.join(path, 'seg', 'seeds', 'array', 'seeds_array.npy')\n",
    "\n",
    "for i in range(0, total_file_nums):\n",
    "    if DDN.Utils.checkDifferenceBetweenSeedArrays(i, path):\n",
    "        DDN.Segmentation.SegmentFromSeedArray(path, shape, i, seeds, save=True)\n",
    "        \n",
    "        \n"
   ]
  }
 ],
 "metadata": {
  "kernelspec": {
   "display_name": "Python 3",
   "language": "python",
   "name": "python3"
  },
  "language_info": {
   "codemirror_mode": {
    "name": "ipython",
    "version": 3
   },
   "file_extension": ".py",
   "mimetype": "text/x-python",
   "name": "python",
   "nbconvert_exporter": "python",
   "pygments_lexer": "ipython3",
   "version": "3.8.6"
  }
 },
 "nbformat": 4,
 "nbformat_minor": 4
}
