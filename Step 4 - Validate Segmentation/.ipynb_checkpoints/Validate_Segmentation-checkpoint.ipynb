{
 "cells": [
  {
   "cell_type": "code",
   "execution_count": 1,
   "metadata": {},
   "outputs": [
    {
     "name": "stdout",
     "output_type": "stream",
     "text": [
      "Functions Running\n",
      "Functions Loaded\n"
     ]
    }
   ],
   "source": [
    "import os\n",
    "import sys\n",
    "%run ..//NewFunctions.py\n",
    "\n",
    "#****************** fill these in *************************\n",
    "base_dir = 'D:\\\\Segment'\n",
    "project_name = 'K02288'\n",
    "#****************** fill these in *************************\n",
    "\n",
    "path = os.path.join(base_dir, project_name)\n",
    "Path(os.path.join(path, 'seg', 'seeds', 'for_biowulf')).mkdir(parents=True, exist_ok=True)\n",
    "\n",
    "\n",
    "files = []\n",
    "for entry in os.scandir(os.path.join(path, 'seg', 'mem')):\n",
    "    if entry.is_file():\n",
    "        files.append(entry)\n",
    "\n",
    "total_file_nums = len(files)\n",
    "\n",
    "\n",
    "sys.path.append(os.path.abspath(os.path.join(base_dir, 'Scripts')))\n",
    "shape = DDN.Utils.GetShape(path)\n",
    "%gui qt"
   ]
  },
  {
   "cell_type": "code",
   "execution_count": 22,
   "metadata": {},
   "outputs": [
    {
     "data": {
      "text/plain": [
       "array([[  0.        ,   0.        , 327.5       , 114.        ],\n",
       "       [  0.        , 103.        , 424.        , 113.        ],\n",
       "       [  0.        , 112.        , 344.        , 108.        ],\n",
       "       ...,\n",
       "       [117.        , 144.6891801 , 155.08446154,  93.        ],\n",
       "       [118.        , 143.18971106, 155.53430225,  93.        ],\n",
       "       [ 55.        , 117.        , 452.87498353, 114.8306148 ]])"
      ]
     },
     "execution_count": 22,
     "metadata": {},
     "output_type": "execute_result"
    }
   ],
   "source": [
    "seeds = np.load(path + '\\\\seg\\\\seeds\\\\array\\\\seeds_array.npy')\n",
    "seeds"
   ]
  },
  {
   "cell_type": "code",
   "execution_count": 24,
   "metadata": {},
   "outputs": [
    {
     "data": {
      "text/plain": [
       "array([[  0,   0, 327, 114],\n",
       "       [  0, 103, 424, 113],\n",
       "       [  0, 112, 344, 108],\n",
       "       ...,\n",
       "       [117, 144, 155,  93],\n",
       "       [118, 143, 155,  93],\n",
       "       [ 55, 117, 452, 114]])"
      ]
     },
     "execution_count": 24,
     "metadata": {},
     "output_type": "execute_result"
    }
   ],
   "source": [
    "seeds_int = seeds.astype(int)\n",
    "seeds_int"
   ]
  },
  {
   "cell_type": "code",
   "execution_count": 33,
   "metadata": {},
   "outputs": [
    {
     "name": "stdout",
     "output_type": "stream",
     "text": [
      "[  0 123 105 123]\n"
     ]
    }
   ],
   "source": [
    "for seed in seeds_int:\n",
    "    if seed[0] == 0:\n",
    "        if seed[1] == 123:\n",
    "            if seed[2] == 105:\n",
    "                if seed[3] == 123:\n",
    "                    print(seed)"
   ]
  },
  {
   "cell_type": "code",
   "execution_count": 39,
   "metadata": {},
   "outputs": [],
   "source": [
    "im = np.load(path + '\\\\seg\\\\mem\\\\seg_1.npz')\n",
    "im = im['arr_0']"
   ]
  },
  {
   "cell_type": "code",
   "execution_count": 40,
   "metadata": {},
   "outputs": [],
   "source": [
    "labs, _ = ndi.label(skimage.util.invert(im))"
   ]
  },
  {
   "cell_type": "code",
   "execution_count": 44,
   "metadata": {},
   "outputs": [
    {
     "data": {
      "text/plain": [
       "[(127.0, 127.0, 89.0),\n",
       " (128.0, 163.0, 100.0),\n",
       " (130.0, 154.0, 81.0),\n",
       " (137.0, 158.0, 107.0)]"
      ]
     },
     "execution_count": 44,
     "metadata": {},
     "output_type": "execute_result"
    }
   ],
   "source": [
    "props = regionprops(labs)\n",
    "\n",
    "small_centroids = []\n",
    "\n",
    "for prop in props:\n",
    "    if prop['Area'] == 1:\n",
    "        small_centroids.append(prop['Centroid'])\n"
   ]
  },
  {
   "cell_type": "code",
   "execution_count": 117,
   "metadata": {},
   "outputs": [],
   "source": [
    "seeds_list = list(seeds)"
   ]
  },
  {
   "cell_type": "code",
   "execution_count": 115,
   "metadata": {},
   "outputs": [
    {
     "data": {
      "text/plain": [
       "24636"
      ]
     },
     "execution_count": 115,
     "metadata": {},
     "output_type": "execute_result"
    }
   ],
   "source": [
    "len(seeds_list)"
   ]
  },
  {
   "cell_type": "code",
   "execution_count": 118,
   "metadata": {},
   "outputs": [
    {
     "name": "stdout",
     "output_type": "stream",
     "text": [
      "running timepoint 178\n"
     ]
    }
   ],
   "source": [
    "small_centroids = []\n",
    "props_removed = 0\n",
    "\n",
    "for timepoint in range(0, total_file_nums):\n",
    "    clear_output(wait=True)\n",
    "    print('running timepoint ' + str(timepoint))\n",
    "\n",
    "    im = np.load(path + '\\\\seg\\\\mem\\\\seg_' + str(timepoint) + '.npz')\n",
    "    im = im['arr_0']\n",
    "    labs, _ = ndi.label(skimage.util.invert(im))\n",
    "    props = regionprops(labs)\n",
    "    for prop in props:\n",
    "        if prop['Area'] == 1:\n",
    "            small_centroids.append(prop['Centroid'])\n",
    "    \n",
    "    for centroid in small_centroids:\n",
    "\n",
    "        if IsPointInsideOtherLabel(labs, centroid):\n",
    "\n",
    "            centroid_z, centroid_y, centroid_x = int(centroid[0]), int(centroid[1]), int(centroid[2])\n",
    "\n",
    "            for i, point in enumerate(seeds_list):\n",
    "                    if point[0] == timepoint:\n",
    "                        if point[1] == centroid_z:\n",
    "                            if point[2] == centroid_y:\n",
    "                                if point[3] == centroid_x:\n",
    "                                    #print(point, i)\n",
    "                                    seeds_list.pop(i)\n",
    "                                    props_removed = props_removed + 1"
   ]
  },
  {
   "cell_type": "code",
   "execution_count": 119,
   "metadata": {},
   "outputs": [
    {
     "name": "stdout",
     "output_type": "stream",
     "text": [
      "143\n"
     ]
    }
   ],
   "source": [
    "print(props_removed)"
   ]
  },
  {
   "cell_type": "code",
   "execution_count": 120,
   "metadata": {},
   "outputs": [
    {
     "data": {
      "text/plain": [
       "24493"
      ]
     },
     "execution_count": 120,
     "metadata": {},
     "output_type": "execute_result"
    }
   ],
   "source": [
    "len(seeds_list)"
   ]
  },
  {
   "cell_type": "code",
   "execution_count": 121,
   "metadata": {},
   "outputs": [],
   "source": [
    "np.save(path + '\\\\seg\\\\seeds\\\\array\\\\seeds_array_clean.npy', seeds_list)\n",
    "\n",
    "\n",
    "\n",
    "#resegment on the new array"
   ]
  },
  {
   "cell_type": "code",
   "execution_count": 122,
   "metadata": {},
   "outputs": [],
   "source": [
    "new_seeds = np.load(path + '\\\\seg\\\\seeds\\\\array\\\\seeds_array_clean.npy')"
   ]
  },
  {
   "cell_type": "code",
   "execution_count": null,
   "metadata": {},
   "outputs": [],
   "source": [
    "#now, jitter the points that are not surrounded one time\n",
    "\n",
    "#for each point that's not surrounded, find the lowest intensity pixel within 4 pixels and put it there instead\n",
    "\n",
    "\n"
   ]
  },
  {
   "cell_type": "code",
   "execution_count": 84,
   "metadata": {},
   "outputs": [],
   "source": [
    "def IsPointInsideOtherLabel(labs, centroid):\n",
    "    \n",
    "    centroid_z, centroid_y, centroid_x = int(centroid[0]), int(centroid[1]), int(centroid[2])\n",
    "    \n",
    "    label = labs[centroid_z, centroid_y, centroid_x]\n",
    "        \n",
    "    if labs[centroid_z, centroid_y-1, centroid_x-1] != 1 and labs[centroid_z, centroid_y-1, centroid_x+1] != 1 and labs[centroid_z, centroid_y+1, centroid_x+1] != 1 and labs[centroid_z, centroid_y+1, centroid_x-1] != 1:\n",
    "        \n",
    "        return True\n",
    "    else:\n",
    "        return False"
   ]
  },
  {
   "cell_type": "code",
   "execution_count": 123,
   "metadata": {},
   "outputs": [
    {
     "name": "stdout",
     "output_type": "stream",
     "text": [
      "running timepoint 1\n"
     ]
    },
    {
     "data": {
      "text/plain": [
       "array([[[False, False, False, ..., False, False, False],\n",
       "        [False, False, False, ..., False, False, False],\n",
       "        [False, False, False, ..., False, False, False],\n",
       "        ...,\n",
       "        [False, False, False, ..., False, False, False],\n",
       "        [False, False, False, ..., False, False, False],\n",
       "        [False, False, False, ..., False, False, False]],\n",
       "\n",
       "       [[False, False, False, ..., False, False, False],\n",
       "        [False, False, False, ..., False, False, False],\n",
       "        [False, False, False, ..., False, False, False],\n",
       "        ...,\n",
       "        [False, False, False, ..., False, False, False],\n",
       "        [False, False, False, ..., False, False, False],\n",
       "        [False, False, False, ..., False, False, False]],\n",
       "\n",
       "       [[False, False, False, ..., False, False, False],\n",
       "        [False, False, False, ..., False, False, False],\n",
       "        [False, False, False, ..., False, False, False],\n",
       "        ...,\n",
       "        [False, False, False, ..., False, False, False],\n",
       "        [False, False, False, ..., False, False, False],\n",
       "        [False, False, False, ..., False, False, False]],\n",
       "\n",
       "       ...,\n",
       "\n",
       "       [[False, False, False, ..., False, False, False],\n",
       "        [False, False, False, ..., False, False, False],\n",
       "        [False, False, False, ..., False, False, False],\n",
       "        ...,\n",
       "        [False, False, False, ..., False, False, False],\n",
       "        [False, False, False, ..., False, False, False],\n",
       "        [False, False, False, ..., False, False, False]],\n",
       "\n",
       "       [[False, False, False, ..., False, False, False],\n",
       "        [False, False, False, ..., False, False, False],\n",
       "        [False, False, False, ..., False, False, False],\n",
       "        ...,\n",
       "        [False, False, False, ..., False, False, False],\n",
       "        [False, False, False, ..., False, False, False],\n",
       "        [False, False, False, ..., False, False, False]],\n",
       "\n",
       "       [[False, False, False, ..., False, False, False],\n",
       "        [False, False, False, ..., False, False, False],\n",
       "        [False, False, False, ..., False, False, False],\n",
       "        ...,\n",
       "        [False, False, False, ..., False, False, False],\n",
       "        [False, False, False, ..., False, False, False],\n",
       "        [False, False, False, ..., False, False, False]]])"
      ]
     },
     "execution_count": 123,
     "metadata": {},
     "output_type": "execute_result"
    }
   ],
   "source": [
    "DDN.Segmentation.SegmentFromSeedArray(path, shape, 1, new_seeds, save=True)"
   ]
  },
  {
   "cell_type": "code",
   "execution_count": 41,
   "metadata": {},
   "outputs": [
    {
     "name": "stderr",
     "output_type": "stream",
     "text": [
      "WARNING: QWindowsWindow::setGeometry: Unable to set geometry 1090x690+0+36 (frame: 1108x737-9-2) on QWidgetWindow/\"_QtMainWindowClassWindow\" on \"\\\\.\\DISPLAY2\". Resulting geometry: 909x575-2+29 (frame: 927x622-11-9) margins: 9, 38, 9, 9 minimum size: 612x552 MINMAXINFO maxSize=0,0 maxpos=0,0 mintrack=630,599 maxtrack=0,0)\n"
     ]
    },
    {
     "name": "stdout",
     "output_type": "stream",
     "text": [
      "2021-08-26 11:06:11,797 [WARNING] QWindowsWindow::setGeometry: Unable to set geometry 1090x690+0+36 (frame: 1108x737-9-2) on QWidgetWindow/\"_QtMainWindowClassWindow\" on \"\\\\.\\DISPLAY2\". Resulting geometry: 909x575-2+29 (frame: 927x622-11-9) margins: 9, 38, 9, 9 minimum size: 612x552 MINMAXINFO maxSize=0,0 maxpos=0,0 mintrack=630,599 maxtrack=0,0)\n"
     ]
    }
   ],
   "source": [
    "viewer = napari.Viewer()\n",
    "\n",
    "\n",
    "\n",
    "viewer.add_labels(labs, name = 'labs');"
   ]
  },
  {
   "cell_type": "code",
   "execution_count": 125,
   "metadata": {
    "scrolled": true
   },
   "outputs": [
    {
     "name": "stdout",
     "output_type": "stream",
     "text": [
      "loading membrane image part 1\n",
      "Finished!\n"
     ]
    }
   ],
   "source": [
    "#load all the images and stack them into a 4D array\n",
    "membranes, seg, confidence, changes, average, small_areas, nuc, nuc_confidence, labels, labs_bin = DDN.Images.MakeStackedImages(path, min_tp = 1, max_tp = 2, membranes_bool=True, small_areas_bool=False, segmentation_bool=True, confidence_bool=False, changes_bool=False, average_bool=False, nuc_bool=False, nuc_intersect_bool=False, labels_bool=False, labs_bin_bool=True)\n",
    "    "
   ]
  },
  {
   "cell_type": "code",
   "execution_count": 126,
   "metadata": {
    "scrolled": true
   },
   "outputs": [
    {
     "name": "stderr",
     "output_type": "stream",
     "text": [
      "WARNING: QWindowsWindow::setGeometry: Unable to set geometry 1090x690+0+36 (frame: 1108x737-9-2) on QWidgetWindow/\"_QtMainWindowClassWindow\" on \"\\\\.\\DISPLAY2\". Resulting geometry: 909x575-2+29 (frame: 927x622-11-9) margins: 9, 38, 9, 9 minimum size: 612x552 MINMAXINFO maxSize=0,0 maxpos=0,0 mintrack=630,599 maxtrack=0,0)\n"
     ]
    },
    {
     "name": "stdout",
     "output_type": "stream",
     "text": [
      "2021-08-26 11:57:28,582 [WARNING] QWindowsWindow::setGeometry: Unable to set geometry 1090x690+0+36 (frame: 1108x737-9-2) on QWidgetWindow/\"_QtMainWindowClassWindow\" on \"\\\\.\\DISPLAY2\". Resulting geometry: 909x575-2+29 (frame: 927x622-11-9) margins: 9, 38, 9, 9 minimum size: 612x552 MINMAXINFO maxSize=0,0 maxpos=0,0 mintrack=630,599 maxtrack=0,0)\n"
     ]
    },
    {
     "data": {
      "text/plain": [
       "<napari._qt.widgets.qt_viewer_dock_widget.QtViewerDockWidget at 0x1be07b00ca0>"
      ]
     },
     "execution_count": 126,
     "metadata": {},
     "output_type": "execute_result"
    }
   ],
   "source": [
    "\n",
    "#fix the OS path issue here\n",
    "\n",
    "seeds = np.load(path + '\\\\seg\\\\seeds\\\\array\\\\seeds_array.npy')\n",
    "\n",
    "\n",
    "#overwrite the old seeds with these new ones\n",
    "#np.save(path + '\\\\seg\\\\seeds\\\\array\\\\old_seeds.npy', seeds)\n",
    "\n",
    "\n",
    "viewer = napari.Viewer()\n",
    "\n",
    "\n",
    "\n",
    "if type(membranes) == np.ndarray:\n",
    "    viewer.add_image(membranes, name = 'membranes', blending='additive', colormap='green');\n",
    "\n",
    "if type(seg) == np.ndarray:\n",
    "    viewer.add_image(seg, name = 'seg', blending='additive', colormap='red');\n",
    "\n",
    "if type(nuc) == np.ndarray:\n",
    "    viewer.add_image(nuc, name = 'nuclei', blending='additive', colormap='gray');\n",
    "\n",
    "if type(nuc_confidence) == np.ndarray:\n",
    "    viewer.add_image(nuc_confidence, name = 'nuc confidence', blending='additive', colormap='yellow');\n",
    "\n",
    "if type(small_areas) == np.ndarray:\n",
    "    viewer.add_image(small_areas, name = 'small_areas', blending='additive', colormap='blue');\n",
    "\n",
    "if type(confidence) == np.ndarray:\n",
    "    viewer.add_image(confidence, name = 'potential_errors', blending='additive', colormap='gray');\n",
    "\n",
    "if type(changes) == np.ndarray:\n",
    "    viewer.add_image(changes, name = 'changes', blending='additive', colormap='blue');\n",
    "\n",
    "if type(labels) == np.ndarray:\n",
    "    viewer.add_image(labels, name = 'labels', blending='additive', colormap='blue');\n",
    "\n",
    "if type(labs_bin) == np.ndarray:\n",
    "    viewer.add_image(labs_bin, name = 'binary labels', blending='additive', colormap='gray');\n",
    "\n",
    "    \n",
    "viewer.add_points(seeds, size=5, name='seeds', opacity=1, face_color='violet', blending='opaque')\n",
    "\n",
    "@viewer.bind_key('k')\n",
    "def zplus(viewer):\n",
    "    current_z = viewer.dims.current_step[1]\n",
    "    viewer.dims.set_point(1, current_z+1)\n",
    "\n",
    "@viewer.bind_key('j')\n",
    "def zminus(viewer):\n",
    "    current_z = viewer.dims.current_step[1]\n",
    "    viewer.dims.set_point(1, current_z-1)\n",
    "\n",
    "\n",
    "@viewer.bind_key('.')\n",
    "def tplus(viewer):\n",
    "    current_tp = viewer.dims.current_step[0]\n",
    "    viewer.dims.set_point(0, current_tp + 1)\n",
    "\n",
    "\n",
    "@viewer.bind_key(',')\n",
    "def tminus(viewer):\n",
    "    current_tp = viewer.dims.current_step[0]\n",
    "    viewer.dims.set_point(0, current_tp - 1)\n",
    "\n",
    "\n",
    "@magicgui(call_button='saveSeeds')\n",
    "def saveSeeds():\n",
    "\n",
    "    seeds = viewer.layers['seeds'].data       \n",
    "    np.save(path + '\\\\seg\\\\seeds\\\\array\\\\seeds_array.npy', seeds) \n",
    "    \n",
    "    f = open(path + \"\\\\seg\\\\seeds\\\\for_biowulf\\\\seg_fixed.swarm\", \"a\")\n",
    "    for i in range(0, total_file_nums):    \n",
    "        myString = 'python3 segment_round2.py ' + str(i)\n",
    "        f.write(myString + '\\n')\n",
    "\n",
    "    f.close()\n",
    " \n",
    "    \n",
    "viewer.window.add_dock_widget(saveSeeds, area='right')\n",
    "\n"
   ]
  },
  {
   "cell_type": "code",
   "execution_count": null,
   "metadata": {},
   "outputs": [],
   "source": [
    "#segment changed fromes\n",
    "\n",
    "seeds = np.load(path + '\\\\seg\\\\seeds\\\\array\\\\seeds_array.npy')\n",
    "\n",
    "for i in range(0, total_file_nums):\n",
    "    if DDN.Utils.checkDifferenceBetweenSeedArrays(i, path):\n",
    "        DDN.Segmentation.SegmentFromSeedArray(path, shape, i, seeds, save=True)\n",
    "        \n",
    "        \n"
   ]
  }
 ],
 "metadata": {
  "kernelspec": {
   "display_name": "Python 3",
   "language": "python",
   "name": "python3"
  },
  "language_info": {
   "codemirror_mode": {
    "name": "ipython",
    "version": 3
   },
   "file_extension": ".py",
   "mimetype": "text/x-python",
   "name": "python",
   "nbconvert_exporter": "python",
   "pygments_lexer": "ipython3",
   "version": "3.8.6"
  }
 },
 "nbformat": 4,
 "nbformat_minor": 4
}
